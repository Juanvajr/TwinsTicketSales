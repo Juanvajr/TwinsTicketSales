{
 "cells": [
  {
   "cell_type": "code",
   "execution_count": null,
   "metadata": {},
   "outputs": [],
   "source": [
    "# File loading and module importing\n",
    "import pandas as pd\n",
    "import numpy as np\n",
    "from datascience import *\n",
    "sgt = pd.read_csv(\"2021SingleGameTransactions(1909).csv\")\n",
    "sgt.rename(columns = {'Account_ID':'Account ID'}, inplace = True)\n",
    "sgt"
   ]
  },
  {
   "cell_type": "code",
   "execution_count": null,
   "metadata": {},
   "outputs": [],
   "source": [
    "# File loading\n",
    "contacts = pd.read_csv(\"2021TwinsContacts(1911).csv\")\n",
    "contacts.rename(columns = {'Email Address':'Contact Email'}, inplace = True)\n",
    "contacts"
   ]
  },
  {
   "cell_type": "code",
   "execution_count": null,
   "metadata": {},
   "outputs": [],
   "source": [
    "# File loading\n",
    "crm = pd.read_csv(\"CRMOwnership(1907).csv\")\n",
    "crm.rename(columns = {'Contact':'Account ID'}, inplace = True)\n",
    "crm"
   ]
  },
  {
   "cell_type": "code",
   "execution_count": null,
   "metadata": {},
   "outputs": [],
   "source": [
    "# File loading\n",
    "sth = pd.read_csv(\"TwinsSeasonTicketHolders(1912).csv\")\n",
    "sth "
   ]
  },
  {
   "cell_type": "code",
   "execution_count": null,
   "metadata": {},
   "outputs": [],
   "source": [
    "# File loading\n",
    "staff = pd.read_csv(\"TwinsStaff(1906).csv\")\n",
    "staff"
   ]
  },
  {
   "cell_type": "markdown",
   "metadata": {},
   "source": [
    "Campaign 1 (2 for 1 Offer):\n",
    "•\t**I began by making a dataset for fans who purchased tickets on June 26th. Then, I merged the other files one by one with the 2021TwinsContacts(1911).csv until I removed the contacts that didn't fit the criteria. Then, I added the corresponding staff email address. Lastly, I saved the dataset as a csv file and added the campaign info in excel.**"
   ]
  },
  {
   "cell_type": "code",
   "execution_count": null,
   "metadata": {},
   "outputs": [],
   "source": [
    "sgt1 = sgt\n",
    "sgt1[\"Game Date\"] = pd.to_datetime(sgt1[\"Game Date\"]).dt.strftime(\"%Y-%m-%d\")\n",
    "june26 = sgt1[sgt1[\"Game Date\"] <= \"2021-06-26\"]\n",
    "june26 = june26.loc[0:,[\"Account ID\", \"Game Date\"]]\n",
    "june26\n",
    "contacts1 = contacts.loc[0:,['Account ID', \"Contact Email\", \"First Name\"]]\n",
    "tf1 = pd.merge(sth, contacts1, on = \"Account ID\", how = \"outer\")\n",
    "tf1 = pd.merge(tf1, june26, on = \"Account ID\", how = \"left\").drop_duplicates('Contact Email', keep = 'first')\n",
    "tf1 = tf1[~(tf1[\"Current Season Ticket Holder?\"] == \"Yes\")].loc[0:,[\"Account ID\", \"Contact Email\", \"First Name\",\"Current Season Ticket Holder?\"]]\n",
    "\n",
    "tf1 = pd.merge(tf1, crm, on = \"Account ID\", how = 'left')\n",
    "tf1 = pd.merge(tf1,staff, on = \"CRM Owner\", how = \"left\")\n",
    "tf1[\"Last CRM Contact\"] = pd.to_datetime(tf1[\"Last CRM Contact\"]).dt.strftime(\"%Y-%m-%d\")\n",
    "tf1 = tf1.drop_duplicates('Account ID',keep = \"first\").loc[0:,['Account ID', \"First Name\", \"Contact Email\", \"Last CRM Contact\", \"Email\"]]\n",
    "tf1.loc[(tf1[\"Last CRM Contact\"] < \"2021-03-28\"), \"Email\"] = \"tickets@twinsbaseball.com\"\n",
    "tf1 = tf1.merge(contacts1, on = \"Account ID\", how = \"left\")\n",
    "tf1 = tf1.loc[0:,['Account ID', \"First Name_x\", \"Contact Email_y\",\\\n",
    "                  \"Last CRM Contact\", \"Email\"]].drop_duplicates(\"Account ID\", keep = 'first').drop_duplicates('Contact Email_y', keep = 'first')\n",
    "tf1\n",
    "#tf1.to_csv(\"2_for_1(3).csv\", index = False)\n"
   ]
  },
  {
   "cell_type": "markdown",
   "metadata": {},
   "source": [
    "Campaign 2 (Flex 40 Promo):\n",
    "**I merged the other files one by one with the 2021TwinsContacts(1911).csv until I removed the contacts that didn't fit the criteria. Then, I added the corresponding staff email address. Lastly, I saved the dataset as a csv file and added the campaign info in excel.**"
   ]
  },
  {
   "cell_type": "code",
   "execution_count": null,
   "metadata": {},
   "outputs": [],
   "source": [
    "f40 = pd.merge(contacts1, sth, on = \"Account ID\", how = \"outer\")\n",
    "f40 = f40[~(f40[\"Had 2019 Season Tickets\"] == 1) & ~(f40[\"Had 2018 Season Tickets\"] == 1) & ~(f40[\"Current Season Ticket Holder?\"] == \"Yes\")].loc[0:,[\"Account ID\", \"Contact Email\", \"First Name\"]]\n",
    "f40 = pd.merge(f40, crm, on = \"Account ID\", how = 'left')\n",
    "f40 = pd.merge(f40,staff, on = \"CRM Owner\", how = \"outer\")\n",
    "f40[\"Last CRM Contact\"] = pd.to_datetime(f40[\"Last CRM Contact\"]).dt.strftime(\"%Y-%m-%d\")\n",
    "f40 = f40.drop_duplicates('Account ID',keep = \"first\").loc[0:,['Account ID', \"First Name\", \"Contact Email\", \"Last CRM Contact\", \"Email\"]]\n",
    "f40.loc[(f40[\"Last CRM Contact\"] < \"2021-03-28\"), \"Email\"] = \"tickets@twinsbaseball.com\"\n",
    "f40 = f40.merge(contacts1, on = \"Account ID\", how = \"inner\")\n",
    "f40 = f40.loc[0:,['Account ID', \"First Name_x\", \"Contact Email_y\", \"Last CRM Contact\", \"Email\"]].drop_duplicates('Contact Email_y', keep = 'first')\n",
    "f40\n",
    "#f40.to_csv(\"Flex_40_Promo(1).csv\", index = False)"
   ]
  },
  {
   "cell_type": "markdown",
   "metadata": {},
   "source": [
    "Campaign 3 (STH Benefits):\n",
    "**I merged the other files one by one with the 2021TwinsContacts(1911).csv until I removed the contacts that didn't fit the criteria. Then, I added the corresponding staff email address. Lastly, I saved the dataset as a csv file and added the campaign info in excel.**"
   ]
  },
  {
   "cell_type": "code",
   "execution_count": null,
   "metadata": {},
   "outputs": [],
   "source": [
    "sthb = pd.merge(contacts1, sth, on = \"Account ID\", how = \"left\")\n",
    "sthb = sthb[(sthb[\"Current Season Ticket Holder?\"] == \"Yes\")].loc[0:,[\"Account ID\", \"Contact Email\", \"First Name\",\"Current Season Ticket Holder?\"]]\n",
    "sthb = pd.merge(sthb, crm, on = \"Account ID\", how = 'left')\n",
    "sthb = pd.merge(sthb,staff, on = \"CRM Owner\", how = \"outer\")\n",
    "sthb.drop_duplicates('Contact Email_x', keep = 'first')\n",
    "sthb[\"Last CRM Contact\"] = pd.to_datetime(sthb[\"Last CRM Contact\"]).dt.strftime(\"%Y-%m-%d\")\n",
    "sthb = sthb.drop_duplicates('Account ID',keep = \"first\").loc[0:,['Account ID', \"Contact Email_x\", \"First Name\", \"Last CRM Contact\", \"Email\"]]\n",
    "sthb.loc[(sthb[\"Last CRM Contact\"] < \"2021-03-28\"), \"Email\"] = \"tickets@twinsbaseball.com\"\n",
    "sthb\n",
    "#sthb.to_csv(\"STH_Benefits(1).csv\", index = False)"
   ]
  },
  {
   "cell_type": "markdown",
   "metadata": {},
   "source": [
    "Campaign 4 (Game Time Update):\n",
    "**I began by making a dataset for fans who purchased tickets on August 3rd. I merged the other files one by one with the 2021TwinsContacts(1911).csv until I removed the contacts that didn't fit the criteria. Then, I added the corresponding staff email address. Lastly, I saved the dataset as a csv file and added the campaign info in excel.**"
   ]
  },
  {
   "cell_type": "code",
   "execution_count": null,
   "metadata": {},
   "outputs": [],
   "source": [
    "aug3 = sgt1[sgt1[\"Game Date\"] == '2021-08-03'].loc[0:, [\"Account ID\", \"Game Date\"]]\n",
    "gdu = pd.merge(contacts1, sth, on = \"Account ID\", how = \"left\")\n",
    "gdu = gdu[(gdu[\"Current Season Ticket Holder?\"] == \"Yes\")].loc[0:,[\"Account ID\", \"Contact Email\", \"First Name\",\"Current Season Ticket Holder?\"]]\n",
    "gdu = gdu.merge(aug3, on = \"Account ID\", how = 'outer')\n",
    "gdu = gdu.merge(contacts1, on = 'Account ID', how = 'left')\n",
    "gdu = gdu.loc[0:,['Account ID', 'Contact Email_y', 'First Name_y']].drop_duplicates('Contact Email_y', keep = 'first')\n",
    "gdu = gdu.merge(crm, on = 'Account ID', how = 'left')\n",
    "gdu = pd.merge(gdu,staff, on = \"CRM Owner\", how = \"left\")\n",
    "gdu[\"Last CRM Contact\"] = pd.to_datetime(gdu[\"Last CRM Contact\"]).dt.strftime(\"%Y-%m-%d\")\n",
    "gdu = gdu.loc[0:,['Account ID', \"Contact Email_y\", \"First Name_y\", \"Last CRM Contact\", \"Email\"]]\n",
    "gdu.loc[(gdu[\"Last CRM Contact\"] < \"2021-03-28\"), \"Email\"] = \"tickets@twinsbaseball.com\"\n",
    "gdu['First Name_y'].count()\n",
    "#gdu.to_csv(\"Game_Day_Update.csv\", index = False)"
   ]
  }
 ],
 "metadata": {
  "kernelspec": {
   "display_name": "Python 3",
   "language": "python",
   "name": "python3"
  },
  "language_info": {
   "codemirror_mode": {
    "name": "ipython",
    "version": 3
   },
   "file_extension": ".py",
   "mimetype": "text/x-python",
   "name": "python",
   "nbconvert_exporter": "python",
   "pygments_lexer": "ipython3",
   "version": "3.7.4"
  }
 },
 "nbformat": 4,
 "nbformat_minor": 2
}
